{
 "cells": [
  {
   "cell_type": "markdown",
   "id": "a9035e1d",
   "metadata": {},
   "source": [
    "## Instalando Depêndencias"
   ]
  },
  {
   "cell_type": "code",
   "execution_count": 1,
   "id": "710cc276",
   "metadata": {},
   "outputs": [],
   "source": [
    "# !pip install nbformat\n",
    "# !pip install nbconvert \n",
    "# !pip install python-docx\n",
    "# !pip install import-ipynb\n",
    "# !pip install google-generativeai\n",
    "# !pip install import_ipynb\n",
    "# !pip install rich\n",
    "# !pip install sqlalchemy\n",
    "# !pip install thefuzz"
   ]
  },
  {
   "cell_type": "markdown",
   "id": "30d2e7da",
   "metadata": {},
   "source": [
    "## Rodando as bases"
   ]
  },
  {
   "cell_type": "code",
   "execution_count": 2,
   "id": "a6d9aab7",
   "metadata": {},
   "outputs": [],
   "source": [
    "import arquivos_base\n",
    "import carregar_arquivos_base\n",
    "import classificacoes"
   ]
  },
  {
   "cell_type": "markdown",
   "id": "73d9a98d",
   "metadata": {},
   "source": [
    "## Rodando as validações"
   ]
  },
  {
   "cell_type": "code",
   "execution_count": 3,
   "id": "e2beb51d",
   "metadata": {},
   "outputs": [
    {
     "name": "stdout",
     "output_type": "stream",
     "text": [
      "Conexão bem-sucedida!\n",
      "Conexão bem-sucedida!\n",
      "Conexão bem-sucedida!\n"
     ]
    }
   ],
   "source": [
    "import ValidacoesPY.Verificacao_1_CNPJ\n",
    "import ValidacoesPY.Verificacao_2_Somente_ProdutosOferta\n",
    "import ValidacoesPY.Verificacao_3_Pendencia_Juridica"
   ]
  },
  {
   "cell_type": "markdown",
   "id": "104641b2",
   "metadata": {},
   "source": [
    "## Rodando as integrações"
   ]
  },
  {
   "cell_type": "code",
   "execution_count": 4,
   "id": "54617f57",
   "metadata": {},
   "outputs": [
    {
     "name": "stderr",
     "output_type": "stream",
     "text": [
      "c:\\Users\\João\\AppData\\Local\\Programs\\Python\\Python313\\Lib\\site-packages\\tqdm\\auto.py:21: TqdmWarning: IProgress not found. Please update jupyter and ipywidgets. See https://ipywidgets.readthedocs.io/en/stable/user_install.html\n",
      "  from .autonotebook import tqdm as notebook_tqdm\n"
     ]
    }
   ],
   "source": [
    "import Integracao.integracao_excel\n",
    "import Integracao.integracao_word_laudo"
   ]
  },
  {
   "cell_type": "markdown",
   "id": "50d6f7a8",
   "metadata": {},
   "source": [
    "## Resumo das Validações"
   ]
  },
  {
   "cell_type": "code",
   "execution_count": 5,
   "id": "a9821976",
   "metadata": {},
   "outputs": [
    {
     "name": "stdout",
     "output_type": "stream",
     "text": [
      "Validações OFERTA 2025:\n",
      "\n",
      "\n",
      "Verificar CNPJ ❌ Divergente -> (5)\n",
      "\n",
      "Verificar se os Produtos estão cadastrados dentro da Oferta. ✅\n",
      "\n",
      "Pendência Júridica ✅\n"
     ]
    }
   ],
   "source": [
    "from Integracao.integracao_excel import status_item\n",
    "\n",
    "print(\"Validações OFERTA 2025:\\n\")\n",
    "\n",
    "for item, status in status_item.items():\n",
    "    if status > 0:\n",
    "        print(f\"\\n{item} ❌ Divergente -> ({status})\")\n",
    "    else:\n",
    "        print(f\"\\n{item} ✅\")"
   ]
  }
 ],
 "metadata": {
  "kernelspec": {
   "display_name": "Python 3",
   "language": "python",
   "name": "python3"
  },
  "language_info": {
   "codemirror_mode": {
    "name": "ipython",
    "version": 3
   },
   "file_extension": ".py",
   "mimetype": "text/x-python",
   "name": "python",
   "nbconvert_exporter": "python",
   "pygments_lexer": "ipython3",
   "version": "3.13.2"
  }
 },
 "nbformat": 4,
 "nbformat_minor": 5
}
