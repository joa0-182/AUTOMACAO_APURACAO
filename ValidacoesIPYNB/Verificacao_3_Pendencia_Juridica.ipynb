{
 "cells": [
  {
   "cell_type": "code",
   "execution_count": 7,
   "id": "bc177828",
   "metadata": {},
   "outputs": [],
   "source": [
    "# Bibliotecas \n",
    "import pandas as pd\n",
    "\n",
    "# Para enxerga arquivos na pasta principal\n",
    "import sys \n",
    "import os\n",
    "sys.path.append(os.path.abspath(\"..\"))\n",
    "\n",
    "#Funções\n",
    "from arquivos_base import contagem_validacao\n",
    "from arquivos_base import observacao_validacao\n",
    "from arquivos_base import colunas_finais_validacao\n",
    "from arquivos_base import conecta_banco\n",
    "from arquivos_base import converte_ipynb_to_py\n",
    "\n",
    "# Bases\n",
    "from carregar_arquivos_base import dados_clientes_pendencia_juridica_CLIENTE"
   ]
  },
  {
   "cell_type": "markdown",
   "id": "2971e1bd",
   "metadata": {},
   "source": [
    "### 3. Verificar se há pendências Jurídicas ou financeiras no Canal\n",
    "\n",
    "Verifica se os CNPJ do arquivo \"Pendentes Juridicamente CLIENTE\" onde mostra todos os clientes que tem pendências fincaceira com o CLIENTE de apuração, está participando da Oferta.\n"
   ]
  },
  {
   "cell_type": "code",
   "execution_count": null,
   "id": "a4c6b8da",
   "metadata": {},
   "outputs": [
    {
     "name": "stdout",
     "output_type": "stream",
     "text": [
      "Conexão bem-sucedida!\n"
     ]
    }
   ],
   "source": [
    "sql = conecta_banco(\"ODBC Driver 17 for SQL Server\", \"seu servidor\", \"AGRO\", None, None, \"SIM\")\n",
    "codigo_oferta = 2"
   ]
  },
  {
   "cell_type": "code",
   "execution_count": 9,
   "id": "55a93333",
   "metadata": {},
   "outputs": [],
   "source": [
    "dados_clientes_banco = pd.read_sql(\n",
    "    f\"\"\"\n",
    "  SELECT DISTINCT\n",
    "\t       OFE.CODIGOOFERTA,\n",
    "\t       OFE.CODIGOEMPRESA,\n",
    "\t\t     EMP.DESCRICAOEMPRESA,\n",
    "         EMP.CNPJ\n",
    "    FROM PRODUTO_OFERTA OFE\n",
    "   INNER JOIN EMPRESA EMP\n",
    "\t\t  ON OFE.CODIGOEMPRESA = EMP.CODIGOEMPRESA\n",
    "   WHERE CODIGOOFERTA = {codigo_oferta}\n",
    "\n",
    "    \"\"\", sql\n",
    ")"
   ]
  },
  {
   "cell_type": "code",
   "execution_count": 17,
   "id": "6469c8c4",
   "metadata": {},
   "outputs": [],
   "source": [
    "dados_clientes_banco = dados_clientes_banco.rename(columns={\"CNPJ\": \"CNPJ_BANCO\"})\n",
    "dados_clientes_pendencia_juridica_CLIENTE = dados_clientes_pendencia_juridica_CLIENTE.rename(columns={\"CNPJ\": \"CNPJ_CLIENTE\"})\n",
    "\n",
    "dados_clientes = pd.merge(\n",
    "    dados_clientes_banco[[\"CODIGOOFERTA\", \"CODIGOEMPRESA\", \"DESCRICAOEMPRESA\", \"CNPJ_BANCO\"]],\n",
    "    dados_clientes_pendencia_juridica_CLIENTE[[\"CNPJ_CLIENTE\", \"DESCRICAOEMPRESA\"]],\n",
    "    how=\"left\",\n",
    "    left_on=\"CNPJ_BANCO\",\n",
    "    right_on=\"CNPJ_CLIENTE\",\n",
    "    indicator=True\n",
    ")\n",
    "\n",
    "\n",
    "validar_clientes_pendencia = dados_clientes\n",
    "\n",
    "validar_clientes_pendencia[\"Validação\"] = validar_clientes_pendencia.apply(\n",
    "    lambda case: \"Divergente\" if case[\"CNPJ_BANCO\"] == case[\"CNPJ_CLIENTE\"]\n",
    "    else \"Correto\",\n",
    "    axis = 1\n",
    ")"
   ]
  },
  {
   "cell_type": "code",
   "execution_count": 18,
   "id": "4ffecaca",
   "metadata": {},
   "outputs": [],
   "source": [
    "# Contagem \"Correta\" e \"Divergente\"\n",
    "qtde_correto_03, qtde_divergente_03 = contagem_validacao(validar_clientes_pendencia)\n",
    "validar_clientes_pendencia = observacao_validacao(validar_clientes_pendencia, qtde_correto_03, qtde_divergente_03)\n",
    "\n",
    "validar_clientes_pendencia = colunas_finais_validacao(\n",
    "    validar_clientes_pendencia,\n",
    "    [\"CODIGOOFERTA\", \"CODIGOEMPRESA\", \"DESCRICAOEMPRESA_x\", \"CNPJ_BANCO\", \"CNPJ_CLIENTE\", \"DESCRICAOEMPRESA_y\",\n",
    "     \"Validação\", \"Observação\"]\n",
    ")"
   ]
  },
  {
   "cell_type": "code",
   "execution_count": 19,
   "id": "94fbe1c4",
   "metadata": {},
   "outputs": [],
   "source": [
    "converte_ipynb_to_py(\"Verificacao_3_Pendencia_Juridica.ipynb\")"
   ]
  }
 ],
 "metadata": {
  "kernelspec": {
   "display_name": "Python 3",
   "language": "python",
   "name": "python3"
  },
  "language_info": {
   "codemirror_mode": {
    "name": "ipython",
    "version": 3
   },
   "file_extension": ".py",
   "mimetype": "text/x-python",
   "name": "python",
   "nbconvert_exporter": "python",
   "pygments_lexer": "ipython3",
   "version": "3.13.2"
  }
 },
 "nbformat": 4,
 "nbformat_minor": 5
}
