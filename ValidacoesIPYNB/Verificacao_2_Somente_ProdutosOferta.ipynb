{
 "cells": [
  {
   "cell_type": "code",
   "execution_count": 1,
   "id": "1fa793a8",
   "metadata": {},
   "outputs": [],
   "source": [
    "# Bibliotecas \n",
    "import pandas as pd\n",
    "\n",
    "# Para enxerga arquivos na pasta principal\n",
    "import sys \n",
    "import os\n",
    "sys.path.append(os.path.abspath(\"..\"))\n",
    "\n",
    "#Funções\n",
    "from arquivos_base import contagem_validacao\n",
    "from arquivos_base import observacao_validacao\n",
    "from arquivos_base import colunas_finais_validacao\n",
    "from arquivos_base import conecta_banco\n",
    "from arquivos_base import converte_ipynb_to_py\n",
    "\n",
    "# Bases\n",
    "from carregar_arquivos_base import dados_produtos_oferta_CLIENTE"
   ]
  },
  {
   "cell_type": "markdown",
   "id": "b1dbe620",
   "metadata": {},
   "source": [
    "### 2. Garantir que a apuração contenha somente os produtos da Oferta\n",
    "\n",
    "Utiliza com base a tabela de produtos do arquivo enviado pelo Cliente, \"Produtos oferta CLIENTE.xlsx\", para verificar se os produtos dessa tabela estão cadastrados dentro do banco.\n"
   ]
  },
  {
   "cell_type": "code",
   "execution_count": null,
   "id": "7b788f31",
   "metadata": {},
   "outputs": [
    {
     "name": "stdout",
     "output_type": "stream",
     "text": [
      "Conexão bem-sucedida!\n"
     ]
    }
   ],
   "source": [
    "sql = conecta_banco(\"ODBC Driver 17 for SQL Server\", \"seu servidor\", \"AGRO\", None, None, \"SIM\")\n",
    "codigo_oferta = 2"
   ]
  },
  {
   "cell_type": "code",
   "execution_count": 3,
   "id": "4d84beac",
   "metadata": {},
   "outputs": [],
   "source": [
    "dados_produtos_banco = pd.read_sql(\n",
    "    f\"\"\"\n",
    " SELECT OFE.CODIGOOFERTA,\n",
    "\t      OFE.CODIGOPRODUTO,\n",
    "\t      PRO.DESCRICAOPRODUTO\n",
    "   FROM PRODUTO_OFERTA OFE\n",
    "  INNER JOIN PRODUTO PRO\n",
    "\t\t ON OFE.CODIGOPRODUTO = PRO.CODIGOPRODUTO\n",
    "  WHERE OFE.CODIGOOFERTA = {codigo_oferta}\n",
    "  ORDER BY CODIGOEMPRESA\n",
    "\n",
    "    \"\"\", sql\n",
    ")"
   ]
  },
  {
   "cell_type": "code",
   "execution_count": 6,
   "id": "b1e0e8a5",
   "metadata": {},
   "outputs": [
    {
     "data": {
      "text/html": [
       "<div>\n",
       "<style scoped>\n",
       "    .dataframe tbody tr th:only-of-type {\n",
       "        vertical-align: middle;\n",
       "    }\n",
       "\n",
       "    .dataframe tbody tr th {\n",
       "        vertical-align: top;\n",
       "    }\n",
       "\n",
       "    .dataframe thead th {\n",
       "        text-align: right;\n",
       "    }\n",
       "</style>\n",
       "<table border=\"1\" class=\"dataframe\">\n",
       "  <thead>\n",
       "    <tr style=\"text-align: right;\">\n",
       "      <th></th>\n",
       "      <th>CODIGOOFERTA</th>\n",
       "      <th>CODIGOPRODUTO</th>\n",
       "      <th>DESCRICAOPRODUTO</th>\n",
       "      <th>SKU</th>\n",
       "      <th>DescricaoProduto</th>\n",
       "      <th>_merge</th>\n",
       "      <th>Validação</th>\n",
       "    </tr>\n",
       "  </thead>\n",
       "  <tbody>\n",
       "    <tr>\n",
       "      <th>0</th>\n",
       "      <td>2</td>\n",
       "      <td>10000007</td>\n",
       "      <td>Fertilizante Calcário Dolomítico</td>\n",
       "      <td>10000007</td>\n",
       "      <td>Fertilizante Calcário Dolomítico</td>\n",
       "      <td>both</td>\n",
       "      <td>Correto</td>\n",
       "    </tr>\n",
       "  </tbody>\n",
       "</table>\n",
       "</div>"
      ],
      "text/plain": [
       "   CODIGOOFERTA  CODIGOPRODUTO                  DESCRICAOPRODUTO       SKU  \\\n",
       "0             2       10000007  Fertilizante Calcário Dolomítico  10000007   \n",
       "\n",
       "                   DescricaoProduto _merge Validação  \n",
       "0  Fertilizante Calcário Dolomítico   both   Correto  "
      ]
     },
     "execution_count": 6,
     "metadata": {},
     "output_type": "execute_result"
    }
   ],
   "source": [
    "dados_produtos = pd.merge(\n",
    "    dados_produtos_banco,\n",
    "    dados_produtos_oferta_CLIENTE,\n",
    "    how=\"left\",\n",
    "    left_on=\"CODIGOPRODUTO\",\n",
    "    right_on=\"SKU\",\n",
    "    indicator=True\n",
    ")\n",
    "\n",
    "\n",
    "\n",
    "validar_produtos = dados_produtos\n",
    "\n",
    "validar_produtos[\"Validação\"] = validar_produtos.apply(\n",
    "    lambda case: \"Divergente\" if case[\"CODIGOPRODUTO\"] != case[\"SKU\"]\n",
    "    else \"Correto\",\n",
    "    axis = 1\n",
    ")\n",
    "\n",
    "validar_produtos.head(1)"
   ]
  },
  {
   "cell_type": "code",
   "execution_count": 7,
   "id": "d16a6172",
   "metadata": {},
   "outputs": [
    {
     "data": {
      "text/html": [
       "<div>\n",
       "<style scoped>\n",
       "    .dataframe tbody tr th:only-of-type {\n",
       "        vertical-align: middle;\n",
       "    }\n",
       "\n",
       "    .dataframe tbody tr th {\n",
       "        vertical-align: top;\n",
       "    }\n",
       "\n",
       "    .dataframe thead th {\n",
       "        text-align: right;\n",
       "    }\n",
       "</style>\n",
       "<table border=\"1\" class=\"dataframe\">\n",
       "  <thead>\n",
       "    <tr style=\"text-align: right;\">\n",
       "      <th></th>\n",
       "      <th>CODIGOOFERTA</th>\n",
       "      <th>CODIGOPRODUTO</th>\n",
       "      <th>DESCRICAOPRODUTO</th>\n",
       "      <th>SKU</th>\n",
       "      <th>DescricaoProduto</th>\n",
       "      <th>_merge</th>\n",
       "      <th>Validação</th>\n",
       "      <th>Observação</th>\n",
       "    </tr>\n",
       "  </thead>\n",
       "  <tbody>\n",
       "    <tr>\n",
       "      <th>0</th>\n",
       "      <td>2</td>\n",
       "      <td>10000007</td>\n",
       "      <td>Fertilizante Calcário Dolomítico</td>\n",
       "      <td>10000007</td>\n",
       "      <td>Fertilizante Calcário Dolomítico</td>\n",
       "      <td>both</td>\n",
       "      <td>Correto</td>\n",
       "      <td>Existem 48 Correto, e 0 Divergentes</td>\n",
       "    </tr>\n",
       "  </tbody>\n",
       "</table>\n",
       "</div>"
      ],
      "text/plain": [
       "   CODIGOOFERTA  CODIGOPRODUTO                  DESCRICAOPRODUTO       SKU  \\\n",
       "0             2       10000007  Fertilizante Calcário Dolomítico  10000007   \n",
       "\n",
       "                   DescricaoProduto _merge Validação  \\\n",
       "0  Fertilizante Calcário Dolomítico   both   Correto   \n",
       "\n",
       "                            Observação  \n",
       "0  Existem 48 Correto, e 0 Divergentes  "
      ]
     },
     "execution_count": 7,
     "metadata": {},
     "output_type": "execute_result"
    }
   ],
   "source": [
    "qtde_correta_02, qtde_divergente_02 = contagem_validacao(validar_produtos)\n",
    "validar_produtos_campanha = observacao_validacao(validar_produtos, qtde_correta_02, qtde_divergente_02)\n",
    "\n",
    "validar_produtos = colunas_finais_validacao (\n",
    "    validar_produtos,\n",
    "    [\"CODIGOOFERTA\", \"CODIGOPRODUTO\", \"DESCRICAOPRODUTO\", \"SKU\", \"DescricaoProduto\", \"Validação\", \"Observação\"]\n",
    ")\n",
    "\n",
    "validar_produtos_campanha.head(1)"
   ]
  },
  {
   "cell_type": "code",
   "execution_count": 8,
   "id": "b3887895",
   "metadata": {},
   "outputs": [],
   "source": [
    "converte_ipynb_to_py(\"Verificacao_2_Somente_ProdutosOferta.ipynb\")"
   ]
  }
 ],
 "metadata": {
  "kernelspec": {
   "display_name": "Python 3",
   "language": "python",
   "name": "python3"
  },
  "language_info": {
   "codemirror_mode": {
    "name": "ipython",
    "version": 3
   },
   "file_extension": ".py",
   "mimetype": "text/x-python",
   "name": "python",
   "nbconvert_exporter": "python",
   "pygments_lexer": "ipython3",
   "version": "3.13.2"
  }
 },
 "nbformat": 4,
 "nbformat_minor": 5
}
