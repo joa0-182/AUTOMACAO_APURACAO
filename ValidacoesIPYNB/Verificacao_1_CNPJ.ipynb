{
 "cells": [
  {
   "cell_type": "code",
   "execution_count": 1,
   "id": "871ec56a",
   "metadata": {},
   "outputs": [],
   "source": [
    "# Bibliotecas \n",
    "import pandas as pd\n",
    "\n",
    "# Para enxerga arquivos na pasta principal\n",
    "import sys \n",
    "import os\n",
    "sys.path.append(os.path.abspath(\"..\"))\n",
    "\n",
    "#Funções\n",
    "from arquivos_base import contagem_validacao\n",
    "from arquivos_base import observacao_validacao\n",
    "from arquivos_base import colunas_finais_validacao\n",
    "from arquivos_base import conecta_banco\n",
    "from arquivos_base import converte_ipynb_to_py\n",
    "\n",
    "# Bases\n",
    "from carregar_arquivos_base import dados_clientes_oferta_CLIENTE\n"
   ]
  },
  {
   "cell_type": "markdown",
   "id": "3fdc8c6c",
   "metadata": {},
   "source": [
    "### 1.  Verifica os CNPJ participantes da campanha\n",
    "\n",
    "Verifica se os CNPJ do arquivo \"CNPJ dentro Oferta CLIENTE\" enviado pelo Cliente, está cadastrado dentro do banco.\n"
   ]
  },
  {
   "cell_type": "code",
   "execution_count": null,
   "id": "0697ac1f",
   "metadata": {},
   "outputs": [
    {
     "name": "stdout",
     "output_type": "stream",
     "text": [
      "Conexão bem-sucedida!\n"
     ]
    }
   ],
   "source": [
    "sql = conecta_banco(\"ODBC Driver 17 for SQL Server\", \"seu servidor\", \"AGRO\", None, None, \"SIM\")\n",
    "codigo_oferta = 2"
   ]
  },
  {
   "cell_type": "code",
   "execution_count": 3,
   "id": "59d61c55",
   "metadata": {},
   "outputs": [],
   "source": [
    "dados_clientes_banco = pd.read_sql(\n",
    "    f\"\"\"\n",
    " SELECT OFE.CODIGOOFERTA,\n",
    "        OFE.CODIGOEMPRESA,\n",
    "        EMP.DESCRICAOEMPRESA,\n",
    "        EMP.CNPJ\n",
    "   FROM PRODUTO_OFERTA OFE\n",
    "  INNER JOIN EMPRESA EMP\n",
    "          ON OFE.CODIGOEMPRESA = EMP.CODIGOEMPRESA\n",
    "  WHERE OFE.CODIGOOFERTA = {codigo_oferta}\n",
    "  ORDER BY CODIGOEMPRESA\n",
    "\n",
    "    \"\"\", sql\n",
    ")"
   ]
  },
  {
   "cell_type": "code",
   "execution_count": 18,
   "id": "bd4ac07f",
   "metadata": {},
   "outputs": [],
   "source": [
    "dados_clientes_banco = dados_clientes_banco.rename(columns={\"CNPJ\": \"CNPJ_BANCO\"})\n",
    "dados_clientes_oferta_CLIENTE = dados_clientes_oferta_CLIENTE.rename(columns={\"CNPJ\": \"CNPJ_CLIENTE\"})\n",
    "\n",
    "dados_clientes = pd.merge(\n",
    "    dados_clientes_banco[[\"CODIGOOFERTA\", \"CODIGOEMPRESA\", \"DESCRICAOEMPRESA\", \"CNPJ_BANCO\"]],\n",
    "    dados_clientes_oferta_CLIENTE[[\"CNPJ_CLIENTE\", \"Empresa\"]],\n",
    "    how=\"left\",\n",
    "    left_on=\"CNPJ_BANCO\",\n",
    "    right_on=\"CNPJ_CLIENTE\",\n",
    "    indicator=True\n",
    ")\n",
    "\n",
    "\n",
    "validar_clientes = dados_clientes\n",
    "\n",
    "validar_clientes[\"Validação\"] = validar_clientes.apply(\n",
    "    lambda case: \"Divergente\" if case[\"CNPJ_BANCO\"] != case[\"CNPJ_CLIENTE\"]\n",
    "    else \"Correto\",\n",
    "    axis = 1\n",
    ")"
   ]
  },
  {
   "cell_type": "code",
   "execution_count": 19,
   "id": "1e0da3f3",
   "metadata": {},
   "outputs": [],
   "source": [
    "qtde_correto_01, qtde_divergente_01 = contagem_validacao(validar_clientes)\n",
    "validar_clientes = observacao_validacao(validar_clientes, qtde_correto_01, qtde_divergente_01)\n",
    "\n",
    "validar_clientes = colunas_finais_validacao(\n",
    "    validar_clientes,\n",
    "    [\"CODIGOOFERTA\", \"CODIGOEMPRESA\", \"DESCRICAOEMPRESA\", \"CNPJ_BANCO\", \"CNPJ_CLIENTE\", \"Empresa\",\n",
    "     \"Validação\", \"Observação\"]\n",
    ")"
   ]
  },
  {
   "cell_type": "code",
   "execution_count": 20,
   "id": "22b863b1",
   "metadata": {},
   "outputs": [],
   "source": [
    "converte_ipynb_to_py(\"Verificacao_1_CNPJ.ipynb\")"
   ]
  }
 ],
 "metadata": {
  "kernelspec": {
   "display_name": "Python 3",
   "language": "python",
   "name": "python3"
  },
  "language_info": {
   "codemirror_mode": {
    "name": "ipython",
    "version": 3
   },
   "file_extension": ".py",
   "mimetype": "text/x-python",
   "name": "python",
   "nbconvert_exporter": "python",
   "pygments_lexer": "ipython3",
   "version": "3.13.2"
  }
 },
 "nbformat": 4,
 "nbformat_minor": 5
}
